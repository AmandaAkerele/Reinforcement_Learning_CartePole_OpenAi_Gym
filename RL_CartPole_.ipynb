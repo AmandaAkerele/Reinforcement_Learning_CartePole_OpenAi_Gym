{
  "cells": [
    {
      "cell_type": "markdown",
      "id": "63265a65",
      "metadata": {
        "id": "63265a65"
      },
      "source": [
        "## **Deep Reinforcement Learning for the CartPole Environment**"
      ]
    },
    {
      "cell_type": "markdown",
      "id": "9c4aa59d",
      "metadata": {
        "id": "9c4aa59d"
      },
      "source": [
        "## Environment\n",
        "The CartPole environment consists of a pole which moves along a frictionless track. The system is controlled by applying a force of +1 or -1 to the cart. The pendulum starts upright, and the goal is to prevent it from falling over. The state space is represented by four values: cart position, cart velocity, pole angle, and the velocity of the tip of the pole. The action space consists of two actions: moving left or moving right. A reward of +1 is provided for every timestep that the pole remains upright. The episode ends when the pole is more than 15 degrees from vertical, or the cart moves more than 2.4 units from the center.\n",
        "\n",
        "The cell below plots a bunch of example frames from the environment."
      ]
    },
    {
      "cell_type": "code",
      "execution_count": null,
      "id": "a32e27ae",
      "metadata": {
        "scrolled": true,
        "id": "a32e27ae"
      },
      "outputs": [],
      "source": [
        "! pip install gym==0.25.2 tensorflow keras-rl2"
      ]
    },
    {
      "cell_type": "markdown",
      "id": "e156e701",
      "metadata": {
        "id": "e156e701"
      },
      "source": [
        "### Install packages"
      ]
    },
    {
      "cell_type": "code",
      "execution_count": null,
      "id": "03c07f05",
      "metadata": {
        "scrolled": true,
        "id": "03c07f05"
      },
      "outputs": [],
      "source": [
        "import gym\n",
        "from IPython.display import clear_output\n",
        "env = gym.envs.make(\"CartPole-v1\")"
      ]
    },
    {
      "cell_type": "code",
      "execution_count": null,
      "id": "d04e78c0",
      "metadata": {
        "id": "d04e78c0"
      },
      "outputs": [],
      "source": [
        "import matplotlib.pyplot as plt"
      ]
    },
    {
      "cell_type": "code",
      "execution_count": null,
      "id": "615c9605",
      "metadata": {
        "scrolled": true,
        "id": "615c9605"
      },
      "outputs": [],
      "source": [
        "import numpy as np\n",
        "import gym\n",
        "import random\n",
        "from tensorflow.keras.models import Sequential\n",
        "from tensorflow.keras.layers import Dense, Flatten\n",
        "from tensorflow.keras.optimizers import Adam\n",
        "\n",
        "from rl.agents import DQNAgent\n",
        "from rl.policy import BoltzmannQPolicy\n",
        "from rl.memory import SequentialMemory\n",
        "import warnings\n",
        "\n",
        "# Install packages\n",
        "import gym\n",
        "import copy\n",
        "import torch\n",
        "from torch.autograd import Variable\n",
        "import random\n",
        "import matplotlib.pyplot as plt\n",
        "from PIL import Image\n",
        "from IPython.display import clear_output\n",
        "import math\n",
        "import torchvision.transforms as T\n",
        "import numpy as np\n",
        "\n",
        "import time\n",
        "warnings.filterwarnings('ignore')"
      ]
    },
    {
      "cell_type": "code",
      "execution_count": null,
      "id": "ba63b2af",
      "metadata": {
        "colab": {
          "base_uri": "https://localhost:8080/",
          "height": 389
        },
        "id": "ba63b2af",
        "outputId": "59dfaa5c-420c-4d21-a00d-d2609ef09b48"
      },
      "outputs": [
        {
          "output_type": "display_data",
          "data": {
            "text/plain": [
              "<Figure size 640x480 with 1 Axes>"
            ],
            "image/png": "[encoded data removed]"
          },
          "metadata": {}
        }
      ],
      "source": [
        "# Demonstration\n",
        "env = gym.envs.make(\"CartPole-v1\")\n",
        "\n",
        "\n",
        "def get_screen():\n",
        "    ''' Extract one step of the simulation.'''\n",
        "    screen = env.render(mode='rgb_array').transpose((2, 0, 1))\n",
        "    screen = np.ascontiguousarray(screen, dtype=np.float32) / 255.\n",
        "    return torch.from_numpy(screen)\n",
        "\n",
        "# Speify the number of simulation steps\n",
        "num_steps = 2\n",
        "\n",
        "# Show several steps\n",
        "for i in range(num_steps):\n",
        "    clear_output(wait=True)\n",
        "    env.reset()\n",
        "    plt.figure()\n",
        "    plt.imshow(get_screen().cpu().permute(1, 2, 0).numpy(),\n",
        "               interpolation='none')\n",
        "    plt.title('CartPole-v0 Environment')\n",
        "    plt.xticks([])\n",
        "    plt.yticks([])\n",
        "    plt.show()"
      ]
    },
    {
      "cell_type": "markdown",
      "source": [
        "\n",
        "\n",
        "**The state space is represented by four values: cart position, cart velocity, pole angle, and the velocity of the tip of the pole. The action space consists of two actions: moving left or moving right.**"
      ],
      "metadata": {
        "id": "nnVv5ccI4JXs"
      },
      "id": "nnVv5ccI4JXs"
    },
    {
      "cell_type": "markdown",
      "source": [
        "The control objective is to keep the pole in the vertical position by applying horizontal actions (forces) to the cart.\n",
        "\n",
        "**The action space consists of two actions:**\n",
        "\n",
        "1. Push the cart left – denoted by 0\n",
        "2. Push the cart right – denoted by 1\n",
        "3. The observation space or the states are\n",
        "\n",
        "*******\n",
        "**The observation space or the states are:**\n",
        "\n",
        "1. Cart position, denoted by x. The minimal and maximal values are -4.8 and 4.8, respectively.\n",
        "\n",
        "1. Cart velocity, denoted by x. The minimal and maximal values are -\\infty and \\infty, respectively.\n",
        "\n",
        "2. Pole angle of rotation (measured in radians), denoted by \\theta. The minimal and maximal values are -0.418 radians (-24 degrees) and 0.418 (24 degrees).\n",
        "\n",
        "3. Pole angular velocity, denoted by \\dot{\\theta}. The minimal and maximal values are -\\infty and \\infty, respectively."
      ],
      "metadata": {
        "id": "r8MRCeXQyVFv"
      },
      "id": "r8MRCeXQyVFv"
    },
    {
      "cell_type": "code",
      "execution_count": null,
      "id": "c20cddcc",
      "metadata": {
        "scrolled": true,
        "id": "c20cddcc",
        "outputId": "452edd7a-a5b4-44b9-97ed-dbbf23183f2d"
      },
      "outputs": [
        {
          "name": "stdout",
          "output_type": "stream",
          "text": [
            "States:  4\n",
            "Actions:  2\n"
          ]
        }
      ],
      "source": [
        "env = gym.make(\"CartPole-v1\", render_mode=\"human\")\n",
        "states = env.observation_space.shape[0]\n",
        "actions = env.action_space.n\n",
        "\n",
        "print(\"States: \", states)\n",
        "print(\"Actions: \",actions)"
      ]
    },
    {
      "cell_type": "markdown",
      "source": [
        "### **Plotting Function:**\n",
        "This function will make it possible to analyze how the agent learns over time. The resulting plot consists of two subplots. The first one plots the total reward the agent accumulates over time, while the other plot shows a histogram of the agent's total rewards for the last 50 episodes."
      ],
      "metadata": {
        "id": "TOYV_1JmwOoJ"
      },
      "id": "TOYV_1JmwOoJ"
    },
    {
      "cell_type": "code",
      "source": [
        "def plot_res(values, title=''):\n",
        "    ''' Plot the reward curve and histogram of results over time.'''\n",
        "    # Update the window after each episode\n",
        "    clear_output(wait=True)\n",
        "\n",
        "    # Define the figure\n",
        "    f, ax = plt.subplots(nrows=1, ncols=2, figsize=(12,5))\n",
        "    f.suptitle(title)\n",
        "    ax[0].plot(values, label='score per run')\n",
        "    ax[0].axhline(195, c='red',ls='--', label='goal')\n",
        "    ax[0].set_xlabel('Episodes')\n",
        "    ax[0].set_ylabel('Reward')\n",
        "    x = range(len(values))\n",
        "    ax[0].legend()\n",
        "    # Calculate the trend\n",
        "    try:\n",
        "        z = np.polyfit(x, values, 1)\n",
        "        p = np.poly1d(z)\n",
        "        ax[0].plot(x,p(x),\"--\", label='trend')\n",
        "    except:\n",
        "        print('')\n",
        "\n",
        "    # Plot the histogram of results\n",
        "    ax[1].hist(values[-50:])\n",
        "    ax[1].axvline(195, c='red', label='goal')\n",
        "    ax[1].set_xlabel('Scores per Last 50 Episodes')\n",
        "    ax[1].set_ylabel('Frequency')\n",
        "    ax[1].legend()\n",
        "    plt.show()"
      ],
      "metadata": {
        "id": "yYPjhHEa45A9"
      },
      "id": "yYPjhHEa45A9",
      "execution_count": null,
      "outputs": []
    },
    {
      "cell_type": "markdown",
      "source": [
        "## **Exploration - Exploitation:**\n",
        "\n",
        "To learn about the environment and rules of the game, the agent needs to explore by taking random actions. We'll do this by choosing a random action with some probability $\\epsilon$ (epsilon).  That is, with some probability $\\epsilon$ the agent will make a random action and with probability $1 - \\epsilon$, the agent will choose an action from $Q(s,a)$. This is called an **$\\epsilon$-greedy policy**.\n",
        "\n",
        "\n",
        "At first, the agent needs to do a lot of exploring. Later when it has learned more, the agent can favor choosing actions based on what it has learned. This is called _exploitation_. We'll set it up so the agent is more likely to explore early in training, then more likely to exploit later in training."
      ],
      "metadata": {
        "id": "-k_v_8cd4j6s"
      },
      "id": "-k_v_8cd4j6s"
    },
    {
      "cell_type": "markdown",
      "source": [
        "## **Random Search**\n",
        "\n",
        "Before implementing any deep learning approaches, I wrote a simple strategy where the action is sampled randomly from the action space. This approach will serve as a baseline for other strategies and will make it easier to understand how to work with the agent using the Open AI Gym environment."
      ],
      "metadata": {
        "id": "t9IfiA-P5AFO"
      },
      "id": "t9IfiA-P5AFO"
    },
    {
      "cell_type": "code",
      "source": [
        "def random_search(env, episodes,\n",
        "                  title='Random Strategy'):\n",
        "    \"\"\" Random search strategy implementation.\"\"\"\n",
        "    final = []\n",
        "    for episode in range(episodes):\n",
        "        state = env.reset()\n",
        "        done = False\n",
        "        total = 0\n",
        "        while not done:\n",
        "            # Sample random actions\n",
        "            action = env.action_space.sample()\n",
        "            # Take action and extract results\n",
        "            next_state, reward, done, _ = env.step(action)\n",
        "            # Update reward\n",
        "            total += reward\n",
        "            if done:\n",
        "                break\n",
        "        # Add to the final reward\n",
        "        final.append(total)\n",
        "        plot_res(final,title)\n",
        "    return final"
      ],
      "metadata": {
        "id": "B7dOJVE_5Bmc"
      },
      "id": "B7dOJVE_5Bmc",
      "execution_count": null,
      "outputs": []
    },
    {
      "cell_type": "code",
      "source": [
        "episodes=1000"
      ],
      "metadata": {
        "id": "QHYomTZ350fe"
      },
      "id": "QHYomTZ350fe",
      "execution_count": null,
      "outputs": []
    },
    {
      "cell_type": "code",
      "source": [
        "# Get random search results\n",
        "random_s = random_search(env, episodes)"
      ],
      "metadata": {
        "colab": {
          "base_uri": "https://localhost:8080/",
          "height": 515
        },
        "id": "Tb_iMQbw5Ee5",
        "outputId": "889e5bbf-e310-48d1-f81b-47d74f82805c"
      },
      "id": "Tb_iMQbw5Ee5",
      "execution_count": null,
      "outputs": [
        {
          "output_type": "display_data",
          "data": {
            "text/plain": [
              "<Figure size 1200x500 with 2 Axes>"
            ],
            "image/png": "[encoded data removed]"
          },
          "metadata": {}
        }
      ]
    },
    {
      "cell_type": "markdown",
      "source": [
        "The plot above presents the random strategy. As expected, it's impossible to solve the environment using this approach. The agent is not learning from their experience. Despite being lucky sometimes (getting a reward of almost 75), their average performance is as low as 10 steps."
      ],
      "metadata": {
        "id": "qpXtblo85BYm"
      },
      "id": "qpXtblo85BYm"
    },
    {
      "cell_type": "code",
      "execution_count": null,
      "id": "57ad0b2d",
      "metadata": {
        "id": "57ad0b2d",
        "outputId": "2f3ebc88-d84e-4b92-9dc8-6e03008b4c33"
      },
      "outputs": [
        {
          "name": "stdout",
          "output_type": "stream",
          "text": [
            "Episode 1, Score: 12.0\n",
            "Episode 2, Score: 9.0\n",
            "Episode 3, Score: 14.0\n",
            "Episode 4, Score: 18.0\n",
            "Episode 5, Score: 39.0\n",
            "Episode 6, Score: 94.0\n",
            "Episode 7, Score: 19.0\n",
            "Episode 8, Score: 11.0\n",
            "Episode 9, Score: 18.0\n",
            "Episode 10, Score: 61.0\n"
          ]
        }
      ],
      "source": [
        "#Cart pole with random policy - Just for test\n",
        "episodes = 10\n",
        "for episode in range(1,episodes+1):\n",
        "    state = env.reset()\n",
        "    done = False\n",
        "    score = 0\n",
        "    while not done:\n",
        "        action = random.choice([0,1])\n",
        "        _, reward, done, _ = env.step(action)\n",
        "        score +=reward\n",
        "        env.render()\n",
        "    print(f\"Episode {episode}, Score: {score}\")\n"
      ]
    },
    {
      "cell_type": "markdown",
      "source": [
        "The code above is an implementation of a simple **random policy** for the CartPole environment. The CartPole is a classic control problem in reinforcement learning, where the goal is to balance a pole on top of a moving cart. The pole starts upright, and the agent can apply forces to the cart to maintain its balance.\n",
        "\n",
        "Here's a breakdown of the code and the results you provided:\n",
        "\n",
        "1. `episodes = 10`: This line sets the number of episodes or trials the agent will run to test its performance.\n",
        "\n",
        "2. The loop `for episode in range(1, episodes+1):` iterates through each episode.\n",
        "\n",
        "3. `state = env.reset()`: This resets the environment to its initial state and returns the starting state of the system, which includes the position and velocity of the cart and pole.\n",
        "\n",
        "4. `done = False`: This variable is used to track whether the episode is done or not. It becomes `True` when the pole falls down or when a certain time limit is exceeded.\n",
        "\n",
        "5. `score = 0`: This variable keeps track of the cumulative reward obtained during an episode.\n",
        "\n",
        "6. The inner `while not done:` loop runs as long as the episode is not done.\n",
        "\n",
        "7. `action = random.choice([0, 1])`: The agent randomly selects an action. In this case, the action space is discrete with two possible actions: 0 (move left) and 1 (move right).\n",
        "\n",
        "8. `_, reward, done, _ = env.step(action)`: The agent takes the selected action in the environment, and this line returns the new state, the reward obtained from the environment, whether the episode is done, and additional information.\n",
        "\n",
        "9. `score += reward`: The reward obtained from the environment is added to the cumulative score for this episode.\n",
        "\n",
        "10. `env.render()`: This command renders the current state of the environment, allowing you to visualize the agent's actions.\n",
        "\n",
        "11. Once the episode is done, the loop exits, and the episode's score is printed using `print(f\"Episode {episode}, Score: {score}\")`.\n",
        "\n",
        "The result shows the scores obtained in each of the 10 episodes. The score indicates how well the agent managed to balance the pole during each episode. Higher scores suggest better performance. Since the agent is following a random policy, the scores vary widely from episode to episode. This is because the agent's actions are chosen randomly, so sometimes it might accidentally take actions that help balance the pole, resulting in a higher score, while other times it might not be so lucky and the pole falls quickly, leading to a lower score."
      ],
      "metadata": {
        "id": "YDad-BB-9wSt"
      },
      "id": "YDad-BB-9wSt"
    },
    {
      "cell_type": "markdown",
      "source": [
        "## **Deep Q Learning**\n",
        "\n",
        "The main idea behind Q-learning is that we have a function $Q: State \\times Action \\rightarrow \\mathbb{R}$, which can tell the agent what actions will result in what rewards. If we know the value of Q, it is possible to construct a policy that maximizes rewards:\n",
        "\n",
        "\\begin{align}\\pi(s) = \\arg\\!\\max_a \\ Q(s, a)\\end{align}\n",
        "\n",
        "\n",
        "The DQL class implementation consists of a simple neural network implemented in PyTorch that has two main methods--predict and update. The network takes the agent's state as an input and returns the Q values for each of the actions. The maximum Q value is selected by the agent to perform the next action.\n"
      ],
      "metadata": {
        "id": "H3LAS1Uw3XrP"
      },
      "id": "H3LAS1Uw3XrP"
    },
    {
      "cell_type": "markdown",
      "source": [
        "**Neural Network Architecture:** The provided code snippet defines a neural network using the Keras library. The architecture consists of:\n",
        "A Flatten layer to reshape the input state, which is a 1D array representing the environment's state.\n",
        "Two hidden layers with 24 neurons each and ReLU activation functions. These layers capture the complexity of the state-action space and extract relevant features from the input.\n",
        "An output layer with linear activation that produces Q-values for each possible action."
      ],
      "metadata": {
        "id": "ZQsP7sP0ERb4"
      },
      "id": "ZQsP7sP0ERb4"
    },
    {
      "cell_type": "markdown",
      "source": [
        "**DQNAgent:** The DQNAgent is instantiated using the defined neural network. Key parameters include:\n",
        "model: The neural network architecture to be used by the agent.\n",
        "memory: A replay memory buffer (Sequential Memory) to store and sample experiences for training.\n",
        "policy: The exploration policy (BoltzmannQPolicy) that balances exploration and exploitation using a Boltzmann distribution over Q-values.\n",
        "nb_actions: The number of possible\n",
        "actions in the environment.\n",
        "nb_steps_warmup: The number of\n",
        "initial steps for exploration before\n",
        "starting to update the Q-network.\n",
        "target_model_update: The frequency at\n",
        "which the target Q-network is updated.\n"
      ],
      "metadata": {
        "id": "C0g76uUcg9c6"
      },
      "id": "C0g76uUcg9c6"
    },
    {
      "cell_type": "code",
      "execution_count": null,
      "id": "cfeda07d",
      "metadata": {
        "scrolled": true,
        "id": "cfeda07d"
      },
      "outputs": [],
      "source": [
        "#Defininig NN\n",
        "model = Sequential()\n",
        "model.add(Flatten(input_shape = (1, states)))\n",
        "model.add(Dense(24, activation=\"relu\"))\n",
        "model.add(Dense(24, activation=\"relu\"))\n",
        "model.add(Dense(actions, activation=\"linear\"))\n",
        "\n",
        "#Defininig Agent\n",
        "agent = DQNAgent(\n",
        "    model=model,\n",
        "    memory = SequentialMemory(limit=50000, window_length=1),\n",
        "    policy=BoltzmannQPolicy(),\n",
        "    nb_actions=actions,\n",
        "    nb_steps_warmup=10,\n",
        "    target_model_update=0.01\n",
        ")"
      ]
    },
    {
      "cell_type": "code",
      "execution_count": null,
      "id": "2eb4bff3",
      "metadata": {
        "scrolled": false,
        "id": "2eb4bff3",
        "outputId": "955a4184-ed61-4e4e-fbe9-670a96790ea4"
      },
      "outputs": [
        {
          "name": "stdout",
          "output_type": "stream",
          "text": [
            "Training for 10000 steps ...\n",
            "Interval 1 (0 steps performed)\n",
            "10000/10000 [==============================] - 209s 21ms/step - reward: 1.0000\n",
            "done, took 208.610 seconds\n",
            "Testing for 10 episodes ...\n",
            "Episode 1: reward: 373.000, steps: 373\n",
            "Episode 2: reward: 263.000, steps: 263\n",
            "Episode 3: reward: 374.000, steps: 374\n",
            "Episode 4: reward: 322.000, steps: 322\n",
            "Episode 5: reward: 312.000, steps: 312\n",
            "Episode 6: reward: 339.000, steps: 339\n",
            "Episode 7: reward: 293.000, steps: 293\n",
            "Episode 8: reward: 367.000, steps: 367\n",
            "Episode 9: reward: 333.000, steps: 333\n",
            "Episode 10: reward: 223.000, steps: 223\n",
            "319.9\n"
          ]
        }
      ],
      "source": [
        "#Train for 10k episodes and test\n",
        "agent.compile(Adam(lr=0.001), metrics=[\"mae\"])\n",
        "agent.fit(env, nb_steps=10000, visualize=False, verbose=1)\n",
        "\n",
        "results = agent.test(env, nb_episodes=10, visualize = True)\n",
        "print(np.mean(results.history[\"episode_reward\"]))\n"
      ]
    },
    {
      "cell_type": "markdown",
      "source": [
        "Using the Keras-RL library. The agent is trained for 10,000 episodes using the Adam optimizer with a learning rate of 0.001 and Mean Absolute Error (MAE) as the evaluation metric. After training, the agent is tested for 10 episodes, and the average episode reward is calculated from the results.\n",
        "\n",
        "Here's a breakdown of the provided information:\n",
        "\n",
        "Training: The agent is trained for 10,000 episodes using the specified optimizer and metric. During training, the rewards achieved by the agent are printed out. The training process takes around 208.61 seconds to complete.\n",
        "Testing: After training, the agent is tested for 10 episodes. The testing results show the reward achieved and the number of steps taken in each episode. The average reward across these 10 episodes is calculated to be approximately 319.9."
      ],
      "metadata": {
        "id": "0X2dOPtChYni"
      },
      "id": "0X2dOPtChYni"
    },
    {
      "cell_type": "code",
      "execution_count": null,
      "id": "bbae4bf2",
      "metadata": {
        "id": "bbae4bf2",
        "outputId": "bedfae1a-6ea1-40d6-8b79-172fd4b0545a"
      },
      "outputs": [
        {
          "name": "stdout",
          "output_type": "stream",
          "text": [
            "Training for 100000 steps ...\n",
            "Interval 1 (0 steps performed)\n",
            "10000/10000 [==============================] - 207s 21ms/step - reward: 1.0000\n",
            "40 episodes - episode_reward: 244.150 [169.000, 363.000] - loss: 4.419 - mae: 44.112 - mean_q: 89.290\n",
            "\n",
            "Interval 2 (10000 steps performed)\n",
            "10000/10000 [==============================] - 206s 21ms/step - reward: 1.0000\n",
            "45 episodes - episode_reward: 221.444 [161.000, 416.000] - loss: 3.795 - mae: 48.818 - mean_q: 98.602\n",
            "\n",
            "Interval 3 (20000 steps performed)\n",
            "10000/10000 [==============================] - 206s 21ms/step - reward: 1.0000\n",
            "45 episodes - episode_reward: 224.556 [148.000, 301.000] - loss: 2.804 - mae: 46.155 - mean_q: 93.041\n",
            "\n",
            "Interval 4 (30000 steps performed)\n",
            "10000/10000 [==============================] - 206s 21ms/step - reward: 1.0000\n",
            "44 episodes - episode_reward: 225.159 [166.000, 374.000] - loss: 1.664 - mae: 42.420 - mean_q: 85.322\n",
            "\n",
            "Interval 5 (40000 steps performed)\n",
            "10000/10000 [==============================] - 208s 21ms/step - reward: 1.0000\n",
            "39 episodes - episode_reward: 251.538 [89.000, 500.000] - loss: 0.445 - mae: 40.976 - mean_q: 82.211\n",
            "\n",
            "Interval 6 (50000 steps performed)\n",
            "10000/10000 [==============================] - 206s 21ms/step - reward: 1.0000\n",
            "22 episodes - episode_reward: 459.091 [45.000, 500.000] - loss: 1.689 - mae: 41.864 - mean_q: 83.962\n",
            "\n",
            "Interval 7 (60000 steps performed)\n",
            "10000/10000 [==============================] - 207s 21ms/step - reward: 1.0000\n",
            "22 episodes - episode_reward: 460.909 [15.000, 500.000] - loss: 6.573 - mae: 53.646 - mean_q: 107.852\n",
            "\n",
            "Interval 8 (70000 steps performed)\n",
            "10000/10000 [==============================] - 207s 21ms/step - reward: 1.0000\n",
            "38 episodes - episode_reward: 259.342 [10.000, 500.000] - loss: 19.840 - mae: 73.735 - mean_q: 148.545\n",
            "\n",
            "Interval 9 (80000 steps performed)\n",
            "10000/10000 [==============================] - 206s 21ms/step - reward: 1.0000\n",
            "20 episodes - episode_reward: 500.000 [500.000, 500.000] - loss: 17.560 - mae: 68.716 - mean_q: 138.223\n",
            "\n",
            "Interval 10 (90000 steps performed)\n",
            "10000/10000 [==============================] - 206s 21ms/step - reward: 1.0000\n",
            "done, took 2066.657 seconds\n",
            "Testing for 10 episodes ...\n",
            "Episode 1: reward: 500.000, steps: 500\n",
            "Episode 2: reward: 500.000, steps: 500\n",
            "Episode 3: reward: 500.000, steps: 500\n",
            "Episode 4: reward: 500.000, steps: 500\n",
            "Episode 5: reward: 500.000, steps: 500\n",
            "Episode 6: reward: 500.000, steps: 500\n",
            "Episode 7: reward: 500.000, steps: 500\n",
            "Episode 8: reward: 500.000, steps: 500\n",
            "Episode 9: reward: 500.000, steps: 500\n",
            "Episode 10: reward: 500.000, steps: 500\n",
            "500.0\n"
          ]
        }
      ],
      "source": [
        "#Train for 100k episodes and test\n",
        "agent.compile(Adam(lr=0.001), metrics=[\"mae\"])\n",
        "agent.fit(env, nb_steps=100000, visualize=False, verbose=1)\n",
        "\n",
        "results = agent.test(env, nb_episodes=10, visualize = True)\n",
        "print(np.mean(results.history[\"episode_reward\"]))\n",
        "\n",
        "env.close()"
      ]
    },
    {
      "cell_type": "markdown",
      "source": [
        "# **Observation for 100k episodes and test:**\n",
        "\n",
        "In this analysis, we examine the results of training a reinforcement learning agent over an extended period and subsequently testing its performance. The agent was developed and evaluated using the Keras-RL library. The training and testing processes were conducted to assess the agent's learning capabilities and its ability to perform in a given environment.\n",
        "\n",
        "### Training Process\n",
        "The agent was trained for an extensive duration of 100,000 episodes using the Adam optimizer with a learning rate of 0.001. The Mean Absolute Error (MAE) was chosen as the evaluation metric. The training process was divided into intervals of 10,000 steps, during which the agent's performance was recorded. The key details of the training process are as follows:\n",
        "\n",
        "- **Optimizer**: Adam with learning rate of 0.001\n",
        "- **Metric**: Mean Absolute Error (MAE)\n",
        "- **Training Duration**: Approximately 2066.657 seconds\n",
        "\n",
        "### Training Results\n",
        "The agent exhibited a progressive improvement in its performance over the course of training. Throughout the training intervals, the average episode reward and other metrics were tracked. The agent's reward per episode, loss, MAE, and mean Q-value were monitored. This monitoring revealed that the agent was steadily learning and adapting to the environment. Notably, the agent achieved its maximum reward in some intervals, suggesting strong learning and convergence tendencies.\n",
        "\n",
        "### Testing Process\n",
        "Following the extensive training, the agent's performance was evaluated through testing. The agent was tested in 10 episodes, during which its behavior and rewards were observed. The key details of the testing process are as follows:\n",
        "\n",
        "- **Number of Test Episodes**: 10\n",
        "\n",
        "### Testing Results\n",
        "The testing results were remarkable, as the agent consistently achieved the highest possible reward of 500 in all testing episodes. This indicates that the agent had learned to navigate the environment effectively and make optimal decisions in different scenarios. The agent's performance was evidently stable and converged to the optimal policy during the extended training period.\n",
        "\n",
        "### Conclusion\n",
        "The analysis demonstrates the effectiveness of the reinforcement learning agent's training process. The agent's ability to achieve the maximum possible reward in testing episodes after undergoing 100,000 episodes of training underscores its strong learning capabilities and convergence."
      ],
      "metadata": {
        "id": "oSPLdZ_P1Xe-"
      },
      "id": "oSPLdZ_P1Xe-"
    }
  ],
  "metadata": {
    "kernelspec": {
      "display_name": "Python 3 (ipykernel)",
      "language": "python",
      "name": "python3"
    },
    "language_info": {
      "codemirror_mode": {
        "name": "ipython",
        "version": 3
      },
      "file_extension": ".py",
      "mimetype": "text/x-python",
      "name": "python",
      "nbconvert_exporter": "python",
      "pygments_lexer": "ipython3",
      "version": "3.9.13"
    },
    "colab": {
      "provenance": []
    }
  },
  "nbformat": 4,
  "nbformat_minor": 5
}